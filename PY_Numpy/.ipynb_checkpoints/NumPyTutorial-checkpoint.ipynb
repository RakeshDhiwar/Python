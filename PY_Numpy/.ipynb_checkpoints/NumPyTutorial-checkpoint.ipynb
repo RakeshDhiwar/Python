{
 "cells": [
  {
   "cell_type": "markdown",
   "id": "410a28e0-08fe-453d-8ead-622046a5ba84",
   "metadata": {},
   "source": [
    "# NumPy"
   ]
  },
  {
   "cell_type": "code",
   "execution_count": 1,
   "id": "0724ef22-9868-4eed-beca-8c562c58f8c8",
   "metadata": {},
   "outputs": [],
   "source": [
    "import numpy as np"
   ]
  },
  {
   "cell_type": "code",
   "execution_count": 2,
   "id": "24a65ec8-28a1-452f-be67-7e2012424280",
   "metadata": {},
   "outputs": [],
   "source": [
    "myArr = np.array([3,4,5,6])"
   ]
  },
  {
   "cell_type": "code",
   "execution_count": 3,
   "id": "667b0278-ba0f-4461-85d2-b166742e0590",
   "metadata": {},
   "outputs": [
    {
     "data": {
      "text/plain": [
       "array([3, 4, 5, 6])"
      ]
     },
     "execution_count": 3,
     "metadata": {},
     "output_type": "execute_result"
    }
   ],
   "source": [
    "myArr"
   ]
  },
  {
   "cell_type": "code",
   "execution_count": 6,
   "id": "95e0e991-171a-484a-a26c-8f5143ff9236",
   "metadata": {},
   "outputs": [],
   "source": [
    "myArr1 = np.array([23,34,43452525,6] , np.int32)"
   ]
  },
  {
   "cell_type": "code",
   "execution_count": 7,
   "id": "918d4e76-2ca6-473d-9b5c-ef97f3854139",
   "metadata": {},
   "outputs": [
    {
     "data": {
      "text/plain": [
       "array([333,   4,   5,   6])"
      ]
     },
     "execution_count": 7,
     "metadata": {},
     "output_type": "execute_result"
    }
   ],
   "source": [
    "myArr[0]= 333\n",
    "myArr"
   ]
  },
  {
   "cell_type": "markdown",
   "id": "f06bb15c-2e69-46ec-80e1-cbbb1af9a237",
   "metadata": {},
   "source": [
    "# Numpy array creation methods\n"
   ]
  },
  {
   "cell_type": "markdown",
   "id": "1b977769-6ff0-4154-a83d-d186c425a254",
   "metadata": {},
   "source": [
    "# There are 5 general mechanism for creating arrays"
   ]
  },
  {
   "cell_type": "markdown",
   "id": "c0e8e72f-c28f-40de-897d-4bd88aab5554",
   "metadata": {},
   "source": [
    " # 1. Conversion from other python structures (e.g. lists, tuples) "
   ]
  },
  {
   "cell_type": "code",
   "execution_count": 14,
   "id": "a3a10c9c-f89b-40d0-8115-47c7536b1232",
   "metadata": {},
   "outputs": [
    {
     "data": {
      "text/plain": [
       "array([[1, 2, 3],\n",
       "       [4, 5, 6],\n",
       "       [7, 8, 9]])"
      ]
     },
     "execution_count": 14,
     "metadata": {},
     "output_type": "execute_result"
    }
   ],
   "source": [
    "listarray = np.array([[1,2,3],[4,5,6],[7,8,9]])\n",
    "listarray"
   ]
  },
  {
   "cell_type": "code",
   "execution_count": 15,
   "id": "eebb4fe7-6fa6-42bd-8613-bc5e8c346823",
   "metadata": {},
   "outputs": [
    {
     "data": {
      "text/plain": [
       "dtype('int64')"
      ]
     },
     "execution_count": 15,
     "metadata": {},
     "output_type": "execute_result"
    }
   ],
   "source": [
    "listarray.dtype"
   ]
  },
  {
   "cell_type": "code",
   "execution_count": 16,
   "id": "e36f2bb2-05c5-4934-b763-75fdbc226ed5",
   "metadata": {},
   "outputs": [
    {
     "data": {
      "text/plain": [
       "(3, 3)"
      ]
     },
     "execution_count": 16,
     "metadata": {},
     "output_type": "execute_result"
    }
   ],
   "source": [
    "listarray.shape"
   ]
  },
  {
   "cell_type": "code",
   "execution_count": 17,
   "id": "d844a648-b2f5-4f26-8b67-434e8396d36e",
   "metadata": {},
   "outputs": [
    {
     "data": {
      "text/plain": [
       "9"
      ]
     },
     "execution_count": 17,
     "metadata": {},
     "output_type": "execute_result"
    }
   ],
   "source": [
    "listarray.size\n"
   ]
  },
  {
   "cell_type": "code",
   "execution_count": 18,
   "id": "daf57f3e-7a8b-4986-a369-74e643d05d17",
   "metadata": {},
   "outputs": [
    {
     "data": {
      "text/plain": [
       "array({3, 4, 23}, dtype=object)"
      ]
     },
     "execution_count": 18,
     "metadata": {},
     "output_type": "execute_result"
    }
   ],
   "source": [
    "np.array({23,4,3,4})"
   ]
  },
  {
   "cell_type": "markdown",
   "id": "481ed613-b5c0-407e-a4e9-aaf62c0fd3b4",
   "metadata": {},
   "source": [
    "# 2. Intrinsic numpy array creation objects (eg arange, ones, zeroes etc)"
   ]
  },
  {
   "cell_type": "code",
   "execution_count": 19,
   "id": "18c025a1-1eb6-49b8-9662-5dbf9ad24377",
   "metadata": {},
   "outputs": [
    {
     "data": {
      "text/plain": [
       "array([[0., 0., 0.],\n",
       "       [0., 0., 0.]])"
      ]
     },
     "execution_count": 19,
     "metadata": {},
     "output_type": "execute_result"
    }
   ],
   "source": [
    "zeroes = np.zeros((2,3))\n",
    "zeroes"
   ]
  },
  {
   "cell_type": "code",
   "execution_count": 20,
   "id": "ba998bef-3469-4679-9a7c-9746dc5b8037",
   "metadata": {},
   "outputs": [
    {
     "data": {
      "text/plain": [
       "(2, 3)"
      ]
     },
     "execution_count": 20,
     "metadata": {},
     "output_type": "execute_result"
    }
   ],
   "source": [
    "zeroes.dtype\n",
    "zeroes.shape"
   ]
  },
  {
   "cell_type": "code",
   "execution_count": 21,
   "id": "8abf3024-cab2-4b4c-a7cc-08e32be29e8f",
   "metadata": {},
   "outputs": [
    {
     "data": {
      "text/plain": [
       "array([ 0,  1,  2,  3,  4,  5,  6,  7,  8,  9, 10, 11, 12, 13, 14])"
      ]
     },
     "execution_count": 21,
     "metadata": {},
     "output_type": "execute_result"
    }
   ],
   "source": [
    "rng = np.arange(15)\n",
    "rng"
   ]
  },
  {
   "cell_type": "code",
   "execution_count": 23,
   "id": "7dc6822f-138d-4992-a322-f6050fbe6617",
   "metadata": {},
   "outputs": [
    {
     "data": {
      "text/plain": [
       "array([  1.    ,  32.1875,  63.375 ,  94.5625, 125.75  , 156.9375,\n",
       "       188.125 , 219.3125, 250.5   , 281.6875, 312.875 , 344.0625,\n",
       "       375.25  , 406.4375, 437.625 , 468.8125, 500.    ])"
      ]
     },
     "execution_count": 23,
     "metadata": {},
     "output_type": "execute_result"
    }
   ],
   "source": [
    "lspace = np.linspace(1,500,17)\n",
    "lspace"
   ]
  },
  {
   "cell_type": "code",
   "execution_count": 24,
   "id": "d55252f2-06dc-4b29-9cce-f25d145161b5",
   "metadata": {},
   "outputs": [
    {
     "data": {
      "text/plain": [
       "array([[4.64415080e-310, 0.00000000e+000, 1.11789341e+253,\n",
       "        3.17095867e+180, 9.77817447e+199, 1.07332141e+200],\n",
       "       [2.35900850e+251, 2.38195485e+190, 1.14448945e+243,\n",
       "        6.01347002e-154, 7.69843824e+218, 9.77817447e+199],\n",
       "       [1.70887473e+214, 1.70887473e+214, 4.17521448e+199,\n",
       "        4.25109693e+228, 1.81596891e-152, 1.46923560e+195],\n",
       "       [7.51303797e+252, 6.01334515e-154, 4.20703996e-186,\n",
       "        1.02800749e-312, 1.33360892e+241, 4.18529718e-309]])"
      ]
     },
     "execution_count": 24,
     "metadata": {},
     "output_type": "execute_result"
    }
   ],
   "source": [
    "emp = np.empty((4,6))\n",
    "emp"
   ]
  },
  {
   "cell_type": "code",
   "execution_count": 25,
   "id": "e07b1b24-5339-4d23-aa1a-61fa92e3c893",
   "metadata": {},
   "outputs": [
    {
     "data": {
      "text/plain": [
       "array([  1.    ,  32.1875,  63.375 ,  94.5625, 125.75  , 156.9375,\n",
       "       188.125 , 219.3125, 250.5   , 281.6875, 312.875 , 344.0625,\n",
       "       375.25  , 406.4375, 437.625 , 468.8125, 500.    ])"
      ]
     },
     "execution_count": 25,
     "metadata": {},
     "output_type": "execute_result"
    }
   ],
   "source": [
    "emp_like = np.empty_like(lspace)\n",
    "emp_like"
   ]
  },
  {
   "cell_type": "code",
   "execution_count": 28,
   "id": "82fa4111-2fd8-4a6c-81df-9cf02a199c99",
   "metadata": {},
   "outputs": [
    {
     "data": {
      "text/plain": [
       "(45, 45)"
      ]
     },
     "execution_count": 28,
     "metadata": {},
     "output_type": "execute_result"
    }
   ],
   "source": [
    "np.identity(45)\n",
    "np.identity(45).shape"
   ]
  },
  {
   "cell_type": "code",
   "execution_count": 35,
   "id": "2b2521c2-ee77-43b9-bb8c-896d261191ed",
   "metadata": {},
   "outputs": [
    {
     "data": {
      "text/plain": [
       "(99,)"
      ]
     },
     "execution_count": 35,
     "metadata": {},
     "output_type": "execute_result"
    }
   ],
   "source": [
    "arr = np.arange(99)\n",
    "arr\n",
    "arr.shape"
   ]
  },
  {
   "cell_type": "code",
   "execution_count": 38,
   "id": "84213a76-0899-4802-a27d-0e761922cc66",
   "metadata": {},
   "outputs": [
    {
     "data": {
      "text/plain": [
       "array([[ 0,  1,  2,  3,  4,  5,  6,  7,  8,  9, 10, 11, 12, 13, 14, 15,\n",
       "        16, 17, 18, 19, 20, 21, 22, 23, 24, 25, 26, 27, 28, 29, 30, 31,\n",
       "        32],\n",
       "       [33, 34, 35, 36, 37, 38, 39, 40, 41, 42, 43, 44, 45, 46, 47, 48,\n",
       "        49, 50, 51, 52, 53, 54, 55, 56, 57, 58, 59, 60, 61, 62, 63, 64,\n",
       "        65],\n",
       "       [66, 67, 68, 69, 70, 71, 72, 73, 74, 75, 76, 77, 78, 79, 80, 81,\n",
       "        82, 83, 84, 85, 86, 87, 88, 89, 90, 91, 92, 93, 94, 95, 96, 97,\n",
       "        98]])"
      ]
     },
     "execution_count": 38,
     "metadata": {},
     "output_type": "execute_result"
    }
   ],
   "source": [
    "arr.reshape(3,33)"
   ]
  },
  {
   "cell_type": "code",
   "execution_count": 39,
   "id": "d466f9eb-8c47-4dfa-8a2e-5f0aec83ab60",
   "metadata": {},
   "outputs": [
    {
     "data": {
      "text/plain": [
       "array([ 0,  1,  2,  3,  4,  5,  6,  7,  8,  9, 10, 11, 12, 13, 14, 15, 16,\n",
       "       17, 18, 19, 20, 21, 22, 23, 24, 25, 26, 27, 28, 29, 30, 31, 32, 33,\n",
       "       34, 35, 36, 37, 38, 39, 40, 41, 42, 43, 44, 45, 46, 47, 48, 49, 50,\n",
       "       51, 52, 53, 54, 55, 56, 57, 58, 59, 60, 61, 62, 63, 64, 65, 66, 67,\n",
       "       68, 69, 70, 71, 72, 73, 74, 75, 76, 77, 78, 79, 80, 81, 82, 83, 84,\n",
       "       85, 86, 87, 88, 89, 90, 91, 92, 93, 94, 95, 96, 97, 98])"
      ]
     },
     "execution_count": 39,
     "metadata": {},
     "output_type": "execute_result"
    }
   ],
   "source": [
    "arr.ravel()"
   ]
  },
  {
   "cell_type": "markdown",
   "id": "010ff824-3e51-4b78-8b29-dee0988194c1",
   "metadata": {},
   "source": [
    "# NumPy Axis"
   ]
  },
  {
   "cell_type": "code",
   "execution_count": 40,
   "id": "31ebb4d7-a6d0-48a1-91c3-aa4956eab7cc",
   "metadata": {},
   "outputs": [],
   "source": [
    "x = [[1,2,3],[4,5,6],[7,1,0]]"
   ]
  },
  {
   "cell_type": "code",
   "execution_count": 41,
   "id": "abbfc2f6-127a-40e0-b046-bed4afe0c838",
   "metadata": {},
   "outputs": [],
   "source": [
    "ar = np.array(x)"
   ]
  },
  {
   "cell_type": "code",
   "execution_count": 42,
   "id": "3b0e4831-8a4e-4e38-a723-1067601efd58",
   "metadata": {},
   "outputs": [
    {
     "data": {
      "text/plain": [
       "array([[1, 2, 3],\n",
       "       [4, 5, 6],\n",
       "       [7, 1, 0]])"
      ]
     },
     "execution_count": 42,
     "metadata": {},
     "output_type": "execute_result"
    }
   ],
   "source": [
    "ar"
   ]
  },
  {
   "cell_type": "code",
   "execution_count": 43,
   "id": "c9884f49-2efc-4592-9725-e631423c3bec",
   "metadata": {},
   "outputs": [
    {
     "data": {
      "text/plain": [
       "array([12,  8,  9])"
      ]
     },
     "execution_count": 43,
     "metadata": {},
     "output_type": "execute_result"
    }
   ],
   "source": [
    "ar.sum(axis=0)"
   ]
  },
  {
   "cell_type": "code",
   "execution_count": 44,
   "id": "620462c8-2bc2-45e2-9949-14ca64b66f6d",
   "metadata": {},
   "outputs": [
    {
     "data": {
      "text/plain": [
       "array([ 6, 15,  8])"
      ]
     },
     "execution_count": 44,
     "metadata": {},
     "output_type": "execute_result"
    }
   ],
   "source": [
    "ar.sum(axis=1)"
   ]
  },
  {
   "cell_type": "markdown",
   "id": "f4073241-d709-4d84-abea-4a824047cb16",
   "metadata": {},
   "source": [
    "# Numpy attributes and methods"
   ]
  },
  {
   "cell_type": "code",
   "execution_count": 46,
   "id": "20ec5a84-ac3a-47cd-a1b1-b891f91ed00c",
   "metadata": {},
   "outputs": [
    {
     "data": {
      "text/plain": [
       "array([[1, 4, 7],\n",
       "       [2, 5, 1],\n",
       "       [3, 6, 0]])"
      ]
     },
     "execution_count": 46,
     "metadata": {},
     "output_type": "execute_result"
    }
   ],
   "source": [
    "ar.T"
   ]
  },
  {
   "cell_type": "code",
   "execution_count": 47,
   "id": "1c3c5f36-0290-4eea-a0ce-2804a6e8929d",
   "metadata": {},
   "outputs": [
    {
     "name": "stdout",
     "output_type": "stream",
     "text": [
      "1\n",
      "2\n",
      "3\n",
      "4\n",
      "5\n",
      "6\n",
      "7\n",
      "1\n",
      "0\n"
     ]
    }
   ],
   "source": [
    "for item in ar.flat:\n",
    "    print(item)"
   ]
  },
  {
   "cell_type": "code",
   "execution_count": 48,
   "id": "7c9c5832-b5f7-48b5-ac48-98734bd18a05",
   "metadata": {},
   "outputs": [
    {
     "data": {
      "text/plain": [
       "2"
      ]
     },
     "execution_count": 48,
     "metadata": {},
     "output_type": "execute_result"
    }
   ],
   "source": [
    "ar.ndim"
   ]
  },
  {
   "cell_type": "code",
   "execution_count": 49,
   "id": "ddcfb83e-54bf-49c6-b884-633c520d8c65",
   "metadata": {},
   "outputs": [
    {
     "data": {
      "text/plain": [
       "9"
      ]
     },
     "execution_count": 49,
     "metadata": {},
     "output_type": "execute_result"
    }
   ],
   "source": [
    "ar.size"
   ]
  },
  {
   "cell_type": "code",
   "execution_count": 50,
   "id": "764db206-bc7f-4ab6-8fae-4235484ccad0",
   "metadata": {},
   "outputs": [
    {
     "data": {
      "text/plain": [
       "72"
      ]
     },
     "execution_count": 50,
     "metadata": {},
     "output_type": "execute_result"
    }
   ],
   "source": [
    "ar.nbytes"
   ]
  },
  {
   "cell_type": "code",
   "execution_count": 53,
   "id": "3a00a80e-53fd-434e-957d-81c67b92226f",
   "metadata": {},
   "outputs": [],
   "source": [
    "one = np.array([1,23,4,5,67])"
   ]
  },
  {
   "cell_type": "code",
   "execution_count": 54,
   "id": "695fe63e-34d9-41f5-ad93-59556ef71dd4",
   "metadata": {},
   "outputs": [
    {
     "data": {
      "text/plain": [
       "4"
      ]
     },
     "execution_count": 54,
     "metadata": {},
     "output_type": "execute_result"
    }
   ],
   "source": [
    "one.argmax()"
   ]
  },
  {
   "cell_type": "code",
   "execution_count": 55,
   "id": "e087a87f-c308-4f49-beeb-6dd84c0453eb",
   "metadata": {},
   "outputs": [
    {
     "data": {
      "text/plain": [
       "0"
      ]
     },
     "execution_count": 55,
     "metadata": {},
     "output_type": "execute_result"
    }
   ],
   "source": [
    "one.argmin()"
   ]
  },
  {
   "cell_type": "code",
   "execution_count": 56,
   "id": "55d0cadc-fcc1-4754-897b-cc4412c3ef8d",
   "metadata": {},
   "outputs": [
    {
     "data": {
      "text/plain": [
       "array([0, 2, 3, 1, 4])"
      ]
     },
     "execution_count": 56,
     "metadata": {},
     "output_type": "execute_result"
    }
   ],
   "source": [
    "one.argsort()"
   ]
  },
  {
   "cell_type": "code",
   "execution_count": 57,
   "id": "cc722f4a-6697-43ec-a80d-11f139ee46bc",
   "metadata": {},
   "outputs": [
    {
     "data": {
      "text/plain": [
       "6"
      ]
     },
     "execution_count": 57,
     "metadata": {},
     "output_type": "execute_result"
    }
   ],
   "source": [
    "ar.argmax()"
   ]
  },
  {
   "cell_type": "code",
   "execution_count": 58,
   "id": "42f97f82-b00d-4b76-86d2-7b20cd16d4f0",
   "metadata": {},
   "outputs": [
    {
     "data": {
      "text/plain": [
       "array([2, 1, 1])"
      ]
     },
     "execution_count": 58,
     "metadata": {},
     "output_type": "execute_result"
    }
   ],
   "source": [
    "ar.argmax(axis =0)"
   ]
  },
  {
   "cell_type": "code",
   "execution_count": 59,
   "id": "c9ac41d0-21ca-4f78-87cb-17835465345d",
   "metadata": {},
   "outputs": [
    {
     "data": {
      "text/plain": [
       "array([[0, 2, 2],\n",
       "       [1, 0, 0],\n",
       "       [2, 1, 1]])"
      ]
     },
     "execution_count": 59,
     "metadata": {},
     "output_type": "execute_result"
    }
   ],
   "source": [
    "ar.argsort(axis=0)"
   ]
  },
  {
   "cell_type": "code",
   "execution_count": 60,
   "id": "8cade79e-f92c-45b1-9bc3-7e7e2dfe9d90",
   "metadata": {},
   "outputs": [
    {
     "data": {
      "text/plain": [
       "array([[1],\n",
       "       [2],\n",
       "       [3],\n",
       "       [4],\n",
       "       [5],\n",
       "       [6],\n",
       "       [7],\n",
       "       [1],\n",
       "       [0]])"
      ]
     },
     "execution_count": 60,
     "metadata": {},
     "output_type": "execute_result"
    }
   ],
   "source": [
    "ar.reshape(9,1)"
   ]
  },
  {
   "cell_type": "code",
   "execution_count": 61,
   "id": "1f001b58-f177-497f-a615-3b1396668adf",
   "metadata": {},
   "outputs": [
    {
     "data": {
      "text/plain": [
       "array([1, 2, 3, 4, 5, 6, 7, 1, 0])"
      ]
     },
     "execution_count": 61,
     "metadata": {},
     "output_type": "execute_result"
    }
   ],
   "source": [
    "ar.ravel()"
   ]
  },
  {
   "cell_type": "markdown",
   "id": "e7abc284-31c0-4ed0-a11c-67b516d98d73",
   "metadata": {},
   "source": [
    "# Numpy Mathematical operations"
   ]
  },
  {
   "cell_type": "code",
   "execution_count": 62,
   "id": "ffb981bc-acce-4bad-80e8-27beff6b979d",
   "metadata": {},
   "outputs": [],
   "source": [
    "ar2 = np.array([[1, 4, 7],\n",
    "       [2, 5, 1],\n",
    "       [3, 6, 0]])"
   ]
  },
  {
   "cell_type": "code",
   "execution_count": 63,
   "id": "4cf90b55-97ca-4249-ba77-24e86f261d07",
   "metadata": {},
   "outputs": [
    {
     "data": {
      "text/plain": [
       "array([[ 2,  6, 10],\n",
       "       [ 6, 10,  7],\n",
       "       [10,  7,  0]])"
      ]
     },
     "execution_count": 63,
     "metadata": {},
     "output_type": "execute_result"
    }
   ],
   "source": [
    "ar+ar2"
   ]
  },
  {
   "cell_type": "markdown",
   "id": "4a2d63fc-5587-4edb-9ffd-7b7f6cf08611",
   "metadata": {},
   "source": [
    "you cant do this in a python list.."
   ]
  },
  {
   "cell_type": "code",
   "execution_count": 64,
   "id": "309bd1cd-e5ee-4f21-8d6d-2dcbe070befd",
   "metadata": {},
   "outputs": [
    {
     "data": {
      "text/plain": [
       "array([[1.        , 2.        , 2.64575131],\n",
       "       [1.41421356, 2.23606798, 1.        ],\n",
       "       [1.73205081, 2.44948974, 0.        ]])"
      ]
     },
     "execution_count": 64,
     "metadata": {},
     "output_type": "execute_result"
    }
   ],
   "source": [
    "np.sqrt(ar2)"
   ]
  },
  {
   "cell_type": "code",
   "execution_count": 65,
   "id": "45dd53eb-7b8f-4170-aa40-1f0aa5d57022",
   "metadata": {},
   "outputs": [
    {
     "data": {
      "text/plain": [
       "(array([0, 2]), array([2, 1]))"
      ]
     },
     "execution_count": 65,
     "metadata": {},
     "output_type": "execute_result"
    }
   ],
   "source": [
    " np.where(ar2>5)"
   ]
  },
  {
   "cell_type": "code",
   "execution_count": 66,
   "id": "88336040-703a-4357-a1b7-a96126e02950",
   "metadata": {},
   "outputs": [
    {
     "data": {
      "text/plain": [
       "8"
      ]
     },
     "execution_count": 66,
     "metadata": {},
     "output_type": "execute_result"
    }
   ],
   "source": [
    "np.count_nonzero(ar2)"
   ]
  },
  {
   "cell_type": "code",
   "execution_count": 67,
   "id": "bcbc1994-aad7-4211-b5e7-06e9552b633b",
   "metadata": {},
   "outputs": [
    {
     "data": {
      "text/plain": [
       "(array([0, 0, 0, 1, 1, 1, 2, 2]), array([0, 1, 2, 0, 1, 2, 0, 1]))"
      ]
     },
     "execution_count": 67,
     "metadata": {},
     "output_type": "execute_result"
    }
   ],
   "source": [
    "np.nonzero(ar2)"
   ]
  },
  {
   "cell_type": "code",
   "execution_count": 68,
   "id": "d6399458-e148-40a3-aa1e-2bc62131bfdc",
   "metadata": {},
   "outputs": [],
   "source": [
    "import sys"
   ]
  },
  {
   "cell_type": "code",
   "execution_count": 69,
   "id": "023fb81e-66c8-4272-9efe-cd95ab3ae534",
   "metadata": {},
   "outputs": [],
   "source": [
    "py_ar = [0,4,55,2]"
   ]
  },
  {
   "cell_type": "code",
   "execution_count": 71,
   "id": "99ab51f6-1fed-4e65-a7ad-48396a3a94fe",
   "metadata": {},
   "outputs": [],
   "source": [
    "np_ar = np.array(py_ar)"
   ]
  },
  {
   "cell_type": "code",
   "execution_count": 72,
   "id": "e557d447-be1d-4758-8c79-2aa7a5ae85f7",
   "metadata": {},
   "outputs": [
    {
     "data": {
      "text/plain": [
       "112"
      ]
     },
     "execution_count": 72,
     "metadata": {},
     "output_type": "execute_result"
    }
   ],
   "source": [
    "sys.getsizeof(1)*len(py_ar)"
   ]
  },
  {
   "cell_type": "code",
   "execution_count": 73,
   "id": "b0455134-79a2-4c82-b2a3-79d2120c673e",
   "metadata": {},
   "outputs": [
    {
     "data": {
      "text/plain": [
       "32"
      ]
     },
     "execution_count": 73,
     "metadata": {},
     "output_type": "execute_result"
    }
   ],
   "source": [
    "np_ar.itemsize * np_ar.size"
   ]
  },
  {
   "cell_type": "code",
   "execution_count": null,
   "id": "31917278-9c75-499e-a6b8-f7c2a0d49bfe",
   "metadata": {},
   "outputs": [],
   "source": []
  }
 ],
 "metadata": {
  "kernelspec": {
   "display_name": "Python 3 (ipykernel)",
   "language": "python",
   "name": "python3"
  },
  "language_info": {
   "codemirror_mode": {
    "name": "ipython",
    "version": 3
   },
   "file_extension": ".py",
   "mimetype": "text/x-python",
   "name": "python",
   "nbconvert_exporter": "python",
   "pygments_lexer": "ipython3",
   "version": "3.12.0"
  }
 },
 "nbformat": 4,
 "nbformat_minor": 5
}
